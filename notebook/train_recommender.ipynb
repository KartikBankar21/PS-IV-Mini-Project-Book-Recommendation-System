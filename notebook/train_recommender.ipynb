{
 "cells": [
  {
   "cell_type": "code",
   "execution_count": 1,
   "id": "9f23ff65",
   "metadata": {
    "vscode": {
     "languageId": "plaintext"
    }
   },
   "outputs": [
    {
     "name": "stderr",
     "output_type": "stream",
     "text": [
      "Matplotlib is building the font cache; this may take a moment.\n"
     ]
    }
   ],
   "source": [
    "# train_recommender.py\n",
    "import numpy as np\n",
    "import pandas as pd\n",
    "import matplotlib.pyplot as plt\n",
    "import seaborn as sns\n",
    "from sklearn.neighbors import NearestNeighbors\n",
    "from sklearn.preprocessing import MinMaxScaler\n",
    "from sklearn.model_selection import train_test_split\n",
    "import joblib     # better for sklearn objects than pickle\n",
    "import os"
   ]
  },
  {
   "cell_type": "code",
   "execution_count": 3,
   "id": "28e5a728",
   "metadata": {
    "vscode": {
     "languageId": "plaintext"
    }
   },
   "outputs": [
    {
     "name": "stdout",
     "output_type": "stream",
     "text": [
      "Loaded (11123, 12) rows\n"
     ]
    }
   ],
   "source": [
    "# --- Settings ---\n",
    "DATA_PATH = \"../data/books.csv\"   # adjust if running from root or notebook/\n",
    "OUTPUT_MODEL = \"../model/recommender.pkl\"\n",
    "\n",
    "# --- Load data ---\n",
    "df = pd.read_csv(DATA_PATH, on_bad_lines='skip', low_memory=False)\n",
    "  # avoid deprecated error_bad_lines\n",
    "print(\"Loaded\", df.shape, \"rows\")"
   ]
  },
  {
   "cell_type": "code",
   "execution_count": 4,
   "id": "89c3d86b",
   "metadata": {
    "vscode": {
     "languageId": "plaintext"
    }
   },
   "outputs": [
    {
     "name": "stdout",
     "output_type": "stream",
     "text": [
      "After cleaning: (11123, 6)\n"
     ]
    }
   ],
   "source": [
    "# --- Basic cleaning & rename columns with stripped whitespace ---\n",
    "df.columns = [c.strip() for c in df.columns]\n",
    "# Fix columns like '  num_pages' -> 'num_pages'\n",
    "df.columns = [c.replace(\"  \", \" \").strip() for c in df.columns]\n",
    "\n",
    "# Keep only relevant columns and drop rows with missing important fields\n",
    "keep_cols = ['title', 'authors', 'average_rating', 'ratings_count', 'language_code', 'num_pages']\n",
    "for col in keep_cols:\n",
    "    if col not in df.columns:\n",
    "        raise ValueError(f\"Missing column: {col}\")\n",
    "df2 = df[keep_cols].copy()\n",
    "df2 = df2.dropna(subset=['title', 'average_rating', 'ratings_count'])\n",
    "df2['average_rating'] = pd.to_numeric(df2['average_rating'], errors='coerce')\n",
    "df2['ratings_count'] = pd.to_numeric(df2['ratings_count'], errors='coerce').fillna(0)\n",
    "df2['num_pages'] = pd.to_numeric(df2['num_pages'], errors='coerce').fillna(df2['num_pages'].median())\n",
    "df2 = df2.reset_index(drop=True)\n",
    "print(\"After cleaning:\", df2.shape)"
   ]
  },
  {
   "cell_type": "code",
   "execution_count": 5,
   "id": "d8faaaed",
   "metadata": {
    "vscode": {
     "languageId": "plaintext"
    }
   },
   "outputs": [
    {
     "name": "stdout",
     "output_type": "stream",
     "text": [
      "authors\n",
      "Stephen King        40\n",
      "P.G. Wodehouse      40\n",
      "Rumiko Takahashi    39\n",
      "Orson Scott Card    35\n",
      "Agatha Christie     33\n",
      "Piers Anthony       30\n",
      "Sandra Brown        29\n",
      "Mercedes Lackey     29\n",
      "Dick Francis        28\n",
      "Terry Pratchett     23\n",
      "Name: count, dtype: int64\n"
     ]
    }
   ],
   "source": [
    "# --- EDA snippets (optional display) ---\n",
    "# Top authors\n",
    "top_authors = df2['authors'].value_counts().head(10)\n",
    "print(top_authors)"
   ]
  },
  {
   "cell_type": "code",
   "execution_count": 6,
   "id": "b76f16db",
   "metadata": {
    "vscode": {
     "languageId": "plaintext"
    }
   },
   "outputs": [
    {
     "data": {
      "image/png": "[encoded data removed]",
      "text/plain": [
       "<Figure size 640x480 with 1 Axes>"
      ]
     },
     "metadata": {},
     "output_type": "display_data"
    }
   ],
   "source": [
    "# Rating distribution plot (optional)\n",
    "sns.histplot(df2['average_rating'].dropna(), bins=30)\n",
    "plt.title('Average rating distribution')\n",
    "plt.show()"
   ]
  },
  {
   "cell_type": "code",
   "execution_count": 7,
   "id": "7b025039",
   "metadata": {
    "vscode": {
     "languageId": "plaintext"
    }
   },
   "outputs": [],
   "source": [
    "# --- Feature engineering for recommendations ---\n",
    "# Bucket average_rating\n",
    "def rating_bucket(x):\n",
    "    if x <= 1: return '0-1'\n",
    "    if x <= 2: return '1-2'\n",
    "    if x <= 3: return '2-3'\n",
    "    if x <= 4: return '3-4'\n",
    "    return '4-5'\n",
    "\n",
    "df2['rating_bucket'] = df2['average_rating'].apply(rating_bucket)\n",
    "\n",
    "# One-hot encode rating bucket and language\n",
    "rating_df = pd.get_dummies(df2['rating_bucket'])\n",
    "language_df = pd.get_dummies(df2['language_code'].fillna('unknown'))"
   ]
  },
  {
   "cell_type": "code",
   "execution_count": 8,
   "id": "b47a85a7",
   "metadata": {
    "vscode": {
     "languageId": "plaintext"
    }
   },
   "outputs": [],
   "source": [
    "# Build feature matrix\n",
    "features_df = pd.concat([\n",
    "    rating_df,\n",
    "    language_df,\n",
    "    df2[['average_rating', 'ratings_count', 'num_pages']].reset_index(drop=True)\n",
    "], axis=1)\n",
    "\n",
    "# scale features\n",
    "scaler = MinMaxScaler()\n",
    "features = scaler.fit_transform(features_df)\n"
   ]
  },
  {
   "cell_type": "code",
   "execution_count": 9,
   "id": "0b01ec8c",
   "metadata": {
    "vscode": {
     "languageId": "plaintext"
    }
   },
   "outputs": [
    {
     "name": "stdout",
     "output_type": "stream",
     "text": [
      "Saved recommender to ../model/recommender.pkl\n"
     ]
    }
   ],
   "source": [
    "# --- Fit NearestNeighbors model ---\n",
    "n_neighbors = 6  # 5 recommendations + itself\n",
    "model = NearestNeighbors(n_neighbors=n_neighbors, algorithm='ball_tree', metric='euclidean')\n",
    "model.fit(features)\n",
    "distances, indices = model.kneighbors(features)  # for sanity/check\n",
    "\n",
    "# --- Prepare supporting metadata to save ---\n",
    "# We'll save: model, scaler, features_df columns, dataframe (df2), and title->index map\n",
    "title_to_index = pd.Series(df2.index, index=df2['title']).to_dict()\n",
    "\n",
    "payload = {\n",
    "    'model': model,\n",
    "    'scaler': scaler,\n",
    "    'features_columns': list(features_df.columns),\n",
    "    'df': df2,  # small-ish dataframe containing metadata (title, authors, etc.)\n",
    "    'title_to_index': title_to_index\n",
    "}\n",
    "\n",
    "os.makedirs(os.path.dirname(OUTPUT_MODEL), exist_ok=True)\n",
    "joblib.dump(payload, OUTPUT_MODEL)\n",
    "print(\"Saved recommender to\", OUTPUT_MODEL)\n"
   ]
  },
  {
   "cell_type": "code",
   "execution_count": 10,
   "id": "93aa7aef",
   "metadata": {
    "vscode": {
     "languageId": "plaintext"
    }
   },
   "outputs": [
    {
     "name": "stdout",
     "output_type": "stream",
     "text": [
      "Recommendations for a sample book: ['Dostoevsky: The Mantle of the Prophet  1871-1881', 'The Complete C.S. Lewis Signature Classics', 'Novels 1901–1902: The Sacred Fount / The Wings of the Dove', 'Fire in the Minds of Men: Origins of the Revolutionary Faith', 'Collected Essays: Notes of a Native Son / Nobody Knows My Name / The Fire Next Time / No Name in the Street / The Devil Finds Work / Other Essays']\n"
     ]
    }
   ],
   "source": [
    "# Example test\n",
    "def recommend(title, n=5):\n",
    "    if title not in payload['title_to_index']:\n",
    "        return []\n",
    "    idx = payload['title_to_index'][title]\n",
    "    neighs = payload['model'].kneighbors(scaler.transform(features_df), n_neighbors=n+1, return_distance=False)\n",
    "    # The above line recomputes neighbors; simpler is to use precomputed indices but this is fine\n",
    "    rec_ids = neighs[idx]\n",
    "    rec_titles = [payload['df'].loc[i, 'title'] for i in rec_ids if i != idx]\n",
    "    return rec_titles[:n]\n",
    "\n",
    "print(\"Recommendations for a sample book:\", recommend(df2.loc[0, 'title']))"
   ]
  },
  {
   "cell_type": "code",
   "execution_count": null,
   "id": "e1c9587d-0856-431c-8e46-dcd2be691a5f",
   "metadata": {},
   "outputs": [],
   "source": []
  }
 ],
 "metadata": {
  "kernelspec": {
   "display_name": "Python 3 (ipykernel)",
   "language": "python",
   "name": "python3"
  },
  "language_info": {
   "codemirror_mode": {
    "name": "ipython",
    "version": 3
   },
   "file_extension": ".py",
   "mimetype": "text/x-python",
   "name": "python",
   "nbconvert_exporter": "python",
   "pygments_lexer": "ipython3",
   "version": "3.13.7"
  }
 },
 "nbformat": 4,
 "nbformat_minor": 5
}
